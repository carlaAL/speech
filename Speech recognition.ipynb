{
 "cells": [
  {
   "cell_type": "code",
   "execution_count": 64,
   "metadata": {},
   "outputs": [],
   "source": [
    "# Description: This is a virtual assistant program that will greet \n",
    "#              you with a random greeting, get the date, time, and\n",
    "#              information on a person.\n",
    "# Import the libraries\n",
    "import speech_recognition as sr\n",
    "import os\n",
    "from gtts import gTTS\n",
    "import datetime\n",
    "import warnings\n",
    "import calendar\n",
    "import random\n",
    "import wikipedia\n",
    "import pyaudio"
   ]
  },
  {
   "cell_type": "code",
   "execution_count": 65,
   "metadata": {},
   "outputs": [],
   "source": [
    "# Ignore any warning messages\n",
    "warnings.filterwarnings('ignore')"
   ]
  },
  {
   "cell_type": "code",
   "execution_count": 74,
   "metadata": {},
   "outputs": [],
   "source": [
    "# Record audio and return it as a string\n",
    "def recordAudio():    \n",
    "    # Record the audio\n",
    "    r = sr.Recognizer()\n",
    "    with sr.Microphone() as source:  \n",
    "       print('Say something!')\n",
    "       audio = r.listen(source)\n",
    "    \n",
    "    # Speech recognition using Google's Speech Recognition\n",
    "    data = ''\n",
    "    try:\n",
    "        data = r.recognize_google(audio)\n",
    "        print('You said: ' + data)\n",
    "    except sr.UnknownValueError:\n",
    "        print('Google Speech Recognition could not understand')\n",
    "    except sr.RequestError as e:\n",
    "        print('Request error from Google Speech Recognition')\n",
    "    return data"
   ]
  },
  {
   "cell_type": "code",
   "execution_count": 67,
   "metadata": {},
   "outputs": [],
   "source": [
    "# Function to get the virtual assistant response\n",
    "def assistantResponse(text):\n",
    "    print(text)\n",
    "    # Convert the text to speech\n",
    "    myobj = gTTS(text=text, lang='en', slow=False)\n",
    "    \n",
    "    # Save the converted audio to a file    \n",
    "    myobj.save('assistant_response.mp3')\n",
    "    # Play the converted file\n",
    "    os.system('start assistant_response.mp3')"
   ]
  },
  {
   "cell_type": "code",
   "execution_count": 68,
   "metadata": {},
   "outputs": [],
   "source": [
    "# A function to check for wake word(s)\n",
    "def wakeWord(text):\n",
    "    WAKE_WORDS = ['hey computer', 'okay computer'] \n",
    "    text = text.lower()  # Convert the text to all lower case words\n",
    "  # Check to see if the users command/text contains a wake word    \n",
    "    for phrase in WAKE_WORDS:\n",
    "        if phrase in text:\n",
    "            return True\n",
    "  # If the wake word was not found return false\n",
    "    return False"
   ]
  },
  {
   "cell_type": "code",
   "execution_count": 69,
   "metadata": {},
   "outputs": [],
   "source": [
    "def getDate():\n",
    "    now = datetime.datetime.now()\n",
    "    my_date = datetime.datetime.today()\n",
    "    weekday = calendar.day_name[my_date.weekday()]# e.g. Monday\n",
    "    monthNum = now.month\n",
    "    dayNum = now.day\n",
    "    month_names = ['January', 'February', 'March', 'April', 'May',\n",
    "       'June', 'July', 'August', 'September', 'October', 'November',   \n",
    "       'December']\n",
    "    ordinalNumbers = ['1st', '2nd', '3rd', '4th', '5th', '6th', \n",
    "                      '7th', '8th', '9th', '10th', '11th', '12th',                      \n",
    "                      '13th', '14th', '15th', '16th', '17th', \n",
    "                      '18th', '19th', '20th', '21st', '22nd', \n",
    "                      '23rd', '24th', '25th', '26th', '27th', \n",
    "                      '28th', '29th', '30th', '31st']\n",
    "    return 'Today is ' + weekday + ' ' + month_names[monthNum - 1] + ' the ' + ordinalNumbers[dayNum - 1] + '.'"
   ]
  },
  {
   "cell_type": "code",
   "execution_count": 70,
   "metadata": {},
   "outputs": [],
   "source": [
    "# Function to return a random greeting response\n",
    "def greeting(text):\n",
    "    # Greeting Inputs\n",
    "    GREETING_INPUTS = ['hi', 'hey', 'hola', 'greetings', 'wassup', 'hello']\n",
    "     # Greeting Response back to the user\n",
    "    GREETING_RESPONSES = ['howdy', 'whats good', 'hello', 'hey there']\n",
    "     # If the users input is a greeting, then return random response\n",
    "    for word in text.split():\n",
    "        if word.lower() in GREETING_INPUTS:\n",
    "            return random.choice(GREETING_RESPONSES) + '.'\n",
    "    # If no greeting was detected then return an empty string\n",
    "    return ''"
   ]
  },
  {
   "cell_type": "code",
   "execution_count": 71,
   "metadata": {},
   "outputs": [],
   "source": [
    "# Function to get a person first and last name\n",
    "def getPerson(text):\n",
    " wordList = text.split()# Split the text into a list of words     \n",
    " for i in range(0, len(wordList)):\n",
    "   if i + 3 <= len(wordList) - 1 and wordList[i].lower() == 'quién' and wordList[i + 1].lower() == 'es':\n",
    "            return wordList[i + 2] + ' ' + wordList[i + 3]"
   ]
  },
  {
   "cell_type": "code",
   "execution_count": 75,
   "metadata": {},
   "outputs": [
    {
     "name": "stdout",
     "output_type": "stream",
     "text": [
      "Say something!\n",
      "You said: collateral\n",
      "\n"
     ]
    },
    {
     "ename": "AssertionError",
     "evalue": "No text to speak",
     "output_type": "error",
     "traceback": [
      "\u001b[1;31m---------------------------------------------------------------------------\u001b[0m",
      "\u001b[1;31mAssertionError\u001b[0m                            Traceback (most recent call last)",
      "\u001b[1;32m<ipython-input-75-0f391756e677>\u001b[0m in \u001b[0;36m<module>\u001b[1;34m\u001b[0m\n\u001b[0;32m     36\u001b[0m \u001b[1;33m\u001b[0m\u001b[0m\n\u001b[0;32m     37\u001b[0m        \u001b[1;31m# Assistant Audio Response\u001b[0m\u001b[1;33m\u001b[0m\u001b[1;33m\u001b[0m\u001b[1;33m\u001b[0m\u001b[0m\n\u001b[1;32m---> 38\u001b[1;33m     \u001b[0massistantResponse\u001b[0m\u001b[1;33m(\u001b[0m\u001b[0mresponse\u001b[0m\u001b[1;33m)\u001b[0m\u001b[1;33m\u001b[0m\u001b[1;33m\u001b[0m\u001b[0m\n\u001b[0m",
      "\u001b[1;32m<ipython-input-67-904d7f781b0c>\u001b[0m in \u001b[0;36massistantResponse\u001b[1;34m(text)\u001b[0m\n\u001b[0;32m      3\u001b[0m     \u001b[0mprint\u001b[0m\u001b[1;33m(\u001b[0m\u001b[0mtext\u001b[0m\u001b[1;33m)\u001b[0m\u001b[1;33m\u001b[0m\u001b[1;33m\u001b[0m\u001b[0m\n\u001b[0;32m      4\u001b[0m     \u001b[1;31m# Convert the text to speech\u001b[0m\u001b[1;33m\u001b[0m\u001b[1;33m\u001b[0m\u001b[1;33m\u001b[0m\u001b[0m\n\u001b[1;32m----> 5\u001b[1;33m     \u001b[0mmyobj\u001b[0m \u001b[1;33m=\u001b[0m \u001b[0mgTTS\u001b[0m\u001b[1;33m(\u001b[0m\u001b[0mtext\u001b[0m\u001b[1;33m=\u001b[0m\u001b[0mtext\u001b[0m\u001b[1;33m,\u001b[0m \u001b[0mlang\u001b[0m\u001b[1;33m=\u001b[0m\u001b[1;34m'es'\u001b[0m\u001b[1;33m,\u001b[0m \u001b[0mslow\u001b[0m\u001b[1;33m=\u001b[0m\u001b[1;32mFalse\u001b[0m\u001b[1;33m)\u001b[0m\u001b[1;33m\u001b[0m\u001b[1;33m\u001b[0m\u001b[0m\n\u001b[0m\u001b[0;32m      6\u001b[0m \u001b[1;33m\u001b[0m\u001b[0m\n\u001b[0;32m      7\u001b[0m     \u001b[1;31m# Save the converted audio to a file\u001b[0m\u001b[1;33m\u001b[0m\u001b[1;33m\u001b[0m\u001b[1;33m\u001b[0m\u001b[0m\n",
      "\u001b[1;32mD:\\Anaconda3\\lib\\site-packages\\gtts\\tts.py\u001b[0m in \u001b[0;36m__init__\u001b[1;34m(self, text, tld, lang, slow, lang_check, pre_processor_funcs, tokenizer_func)\u001b[0m\n\u001b[0;32m    118\u001b[0m \u001b[1;33m\u001b[0m\u001b[0m\n\u001b[0;32m    119\u001b[0m         \u001b[1;31m# Text\u001b[0m\u001b[1;33m\u001b[0m\u001b[1;33m\u001b[0m\u001b[1;33m\u001b[0m\u001b[0m\n\u001b[1;32m--> 120\u001b[1;33m         \u001b[1;32massert\u001b[0m \u001b[0mtext\u001b[0m\u001b[1;33m,\u001b[0m \u001b[1;34m'No text to speak'\u001b[0m\u001b[1;33m\u001b[0m\u001b[1;33m\u001b[0m\u001b[0m\n\u001b[0m\u001b[0;32m    121\u001b[0m         \u001b[0mself\u001b[0m\u001b[1;33m.\u001b[0m\u001b[0mtext\u001b[0m \u001b[1;33m=\u001b[0m \u001b[0mtext\u001b[0m\u001b[1;33m\u001b[0m\u001b[1;33m\u001b[0m\u001b[0m\n\u001b[0;32m    122\u001b[0m \u001b[1;33m\u001b[0m\u001b[0m\n",
      "\u001b[1;31mAssertionError\u001b[0m: No text to speak"
     ]
    }
   ],
   "source": [
    "while True:\n",
    "    # Record the audio\n",
    "    text = recordAudio()\n",
    "    response = '' #Empty response string\n",
    "     \n",
    "    # Checking for the wake word/phrase\n",
    "    if (wakeWord(text) == True):\n",
    "         # Check for greetings by the user\n",
    "         response = response + greeting(text)\n",
    "         # Check to see if the user said date\n",
    "         if ('date' in text):\n",
    "            get_date = getDate()\n",
    "            response = response + ' ' + get_date\n",
    "         # Check to see if the user said time\n",
    "         if('time' in text):\n",
    "            now = datetime.datetime.now()\n",
    "            meridiem = ''\n",
    "            if now.hour >= 12:\n",
    "                meridiem = 'p.m' #Post Meridiem (PM)\n",
    "                hour = now.hour - 12\n",
    "            else:\n",
    "                meridiem = 'a.m'#Ante Meridiem (AM)\n",
    "                hour = now.hour\n",
    "           # Convert minute into a proper string\n",
    "            if now.minute < 10:\n",
    "                minute = '0'+str(now.minute)\n",
    "            else:\n",
    "                minute = str(now.minute)\n",
    "            response = response + ' '+ 'Son las '+ str(hour)+ ':'+minute+' '+meridiem+' .'\n",
    "                \n",
    "        # Check to see if the user said 'who is'\n",
    "    if ('who is' in text):\n",
    "            person = getPerson(text)\n",
    "            wiki = wikipedia.summary(person, sentences=2)            \n",
    "            response = response + ' ' + wiki\n",
    "       \n",
    "       # Assistant Audio Response\n",
    "    assistantResponse(response)"
   ]
  },
  {
   "cell_type": "code",
   "execution_count": null,
   "metadata": {},
   "outputs": [],
   "source": []
  }
 ],
 "metadata": {
  "kernelspec": {
   "display_name": "Python 3",
   "language": "python",
   "name": "python3"
  },
  "language_info": {
   "codemirror_mode": {
    "name": "ipython",
    "version": 3
   },
   "file_extension": ".py",
   "mimetype": "text/x-python",
   "name": "python",
   "nbconvert_exporter": "python",
   "pygments_lexer": "ipython3",
   "version": "3.7.6"
  }
 },
 "nbformat": 4,
 "nbformat_minor": 4
}
